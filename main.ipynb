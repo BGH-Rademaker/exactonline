{
 "cells": [
  {
   "cell_type": "code",
   "execution_count": 10,
   "id": "66fcb7ad",
   "metadata": {},
   "outputs": [],
   "source": [
    "from datetime import datetime\n",
    "from exactonline.api import ExactApi\n",
    "from exactonline.exceptions import ObjectDoesNotExist\n",
    "from exactonline.resource import GET, POST, PUT, DELETE\n",
    "from exactonline.storage.ini import IniStorage, AzureConfig\n",
    "from collections import defaultdict\n",
    "\n",
    "from azure.identity import DefaultAzureCredential\n",
    "\n",
    "import pandas as pd"
   ]
  },
  {
   "cell_type": "code",
   "execution_count": 11,
   "id": "1d6752b4",
   "metadata": {},
   "outputs": [],
   "source": [
    "storage = IniStorage(\n",
    "    'config.ini',\n",
    "    azure_config=AzureConfig(\n",
    "            vault_url='https://kv-fabric-platform.vault.azure.net/',\n",
    "            app_config_url='https://ac-fabric-platform.azconfig.io')\n",
    ")\n",
    "\n",
    "api = ExactApi(storage = storage)"
   ]
  },
  {
   "cell_type": "code",
   "execution_count": 12,
   "id": "7f1edacd",
   "metadata": {},
   "outputs": [
    {
     "name": "stdout",
     "output_type": "stream",
     "text": [
      "Fetching value iteration_limit from Azure App Configuration: 50.\n",
      "Fetching secret access_expiry from Azure Key Vault: 1751882812.\n",
      "Fetching secret client_id from Azure Key Vault: 949077fe-c895-416f-878a-273f3d0d420a.\n",
      "Fetching secret client_secret from Azure Key Vault: QC4cxQnS7nzO.\n",
      "Fetching secret refresh_token from Azure Key Vault: stampNL001.N4Y3!IAAAAC2fPURE0XGxqSt1E_rRELCCQ2GLdq4UOeJLoElvYwyN4QEAAAEdmDKiYFlAtBl6wtNB0U84UrWapq_Qs9AqJLp1XddmyiXiyYsDYKTn6fDEvv90U5zuZSVwGmEoBdjQ-dJoRh_JIzyyRsSn45m5WckBTsiNdQTkcgYIpRU6hQ9Y23czON6QdJuIZB5rJ8Y39HgzoKcHvE_a8hmwYtjjVeXsv5vbPEIQvNhnEoJpPuwWm_AJM9Zr3_NOjnKY58GX0gGXfglL9PcQGkCm_y0Nq1qQGnpc_LEzA6eJ_UnmzZ5nZYFGUteWlHMupxHDSjBRkjxrZPyNxS6wT3m1n651EmoNKAZs7zqrMqYkVGU3oMWhnNDho2mr-_kw6yCHepKa2N_O4sjAJNnTXjzwnGyLuQ2BV9A8qV4QXL7lV0taXP1J5qyAa5I1asJCuX0yLs9PBFmKlATW6eHkBmByDd6ORYIMkQaTu9sebIw--z2ev_wdxZBhllTvwrDXkkPwXjUCzY0d6OrnRAhVICXg2HbN5vDhLSPId6B4TV7omGVAigVeayj0MGYKZjmyV4PhUev8S4AoK7jTZxrfT_AUGcTKd1oX_GbTio6oxQzSankO3goZSKcItrVRSy4IUmJuslwlA_mAHXUmaYmyERsFcaJFTvd_3uqbZteRjblSsfPbt0p8bHKuvaY.\n",
      "Fetching value token_url from Azure App Configuration: https://start.exactonline.nl/api/oauth2/token.\n",
      "Adding secret access_expiry to Azure Key Vault: 1751883912.\n",
      "Adding secret access_token to Azure Key Vault: stampNL001.gAAAAH_-ajFb2eC4P3FN0CQ4yyRN7BNbAVP52LV7l_t5AFXYHDLH8tsF2Xied_TvEMiJHEv4uF3lmNXoEdIIjyKX1srLiSjR8PIXrCka3EY32378T_fEU4mlECZfK5wcwlv3HX1qG5EhajPxEq5LSQg76lAki6lirj9O9dxqfHufZJ_iRAIAAIAAAAB54_N49DuIFqYi0nhJENo37syyBIHng9tbpwHXPSAKwulnj_7w1CgeRgtArxLIbWcc9gl9BKalThqEDEGQERsOQtk8s4WEusfg8MI2SpPCtK2Rrg3svoD9gW94b2KH__UaRZtQjLp7bbjRhpOWjVmWROd18bMLnXWJr4lxw6E-s0S4kvn4LQjeZX1CAt-ysxtz6G0vBJ-W0n96ml37iDlT8G8Xeq5skph3530nGIljlto5dBDvnCE5V24MoLvrBM-anlulgQ_UgzAWdPEFdf7GJfW64ItOp6L-k-n_W8uP9aUTRr8YbHcB0UynJIDCTJ0nBn0s9IvYLKVUAcsZHQSHdpeJWTcgvTUGgqfuTwCCnzrKXrMjyJTTKFoc5zA2pKHFsfKYEzpiEf_O1Qyajkz1m2Xy40jSwwaLJN_1FpszepGxQFDZH6UF8qfjaeE3sIPBJLh6-Z95j_8XaGRYZ36GbaUiP1azoqv9sxz_7BoH1qITCOD4ALuOY9D0TChrlKxRxXRSJ2xKEPwvyj5BYQqng0P1sEnD5jLwuf_rpzfkKwXjaHx3H0shVHWO8D84MyA-2ac5CXxvR7afspqXAAxOf3Zms12oCvt44KQGlLtFlElQcNlk6SMTWFEcyJ2TnVqjky_CZIUo1xIzRL4suuw9cLnW1uQiqhsN5Up-6bLSWtaJblhxKKXUQn-B1UObR4tCu97v7MTFkQvzNo-B6QFDjPECF_6x-0xOx8fjxkgIYG_BtyHI_G5aTh3w5rcS0EM.\n",
      "Adding secret refresh_token to Azure Key Vault: stampNL001.N4Y3!IAAAAAuWD4722rqN6qN9F6MgA756zA_FxeO_0ueUCXKefaMW4QEAAAHGMntrd3Li0Lkkh8qj4-O4prR0fC3IqiMaD9oyy3a50sHJuzfSh1MeSmzjRtxzD9yGZMqISlH5M_qSzM763ytdAgXMjPOtR3M89qmjcLQ2BMZh90Um77DIjZZ7qEdBOZV6tLZgj5sQIZLJnfm-lIrXswfdKpd_85JCmfBN9Q3ch892Cviz_5TJHpKqdaKMHLx6ZoZFpxk5vTXsm0zPmh0VTf08MYY6lsjF0MhsulCgb61Fw7hviOsJIEYCpeqnBNQaeP5CMzcs_y_Ar6ymtuMf0aP1yFJc1mHB80gOBQhp6ckFJN0xxkkVnUqYYjAxBmCVWCxn471585nmCZ46ytVVfaVi-H0WoOmcRlqTkavzOP-2c_izcxL-OuiPbpbg0TU1UU8z4Gu3_qFy3nF9vuvxLPSbzxcL2zcvuJIugZp3XOjsYalF7DaX87g0T9l_-jPnMxQY_OOsGSTOE1jAB8X_3aZG_c-KSiWRvK8taHAnowDTb4JszfsLRHvNp1yhVx0T1pY8CBzd4MR4ePfUxPQfxwbiGVhe7xnHzTA59KufNrjW4ffAVpTwi5JBo_Qdhi2vDwWBaKksFYYJhwCogi_zXxCyBnA3YNNcP44vm6C6YiehTtKXyCvTXUAahjHmv-M.\n",
      "Fetching value rest_url from Azure App Configuration: https://start.exactonline.nl/api.\n",
      "Fetching secret access_token from Azure Key Vault: stampNL001.gAAAAH_-ajFb2eC4P3FN0CQ4yyRN7BNbAVP52LV7l_t5AFXYHDLH8tsF2Xied_TvEMiJHEv4uF3lmNXoEdIIjyKX1srLiSjR8PIXrCka3EY32378T_fEU4mlECZfK5wcwlv3HX1qG5EhajPxEq5LSQg76lAki6lirj9O9dxqfHufZJ_iRAIAAIAAAAB54_N49DuIFqYi0nhJENo37syyBIHng9tbpwHXPSAKwulnj_7w1CgeRgtArxLIbWcc9gl9BKalThqEDEGQERsOQtk8s4WEusfg8MI2SpPCtK2Rrg3svoD9gW94b2KH__UaRZtQjLp7bbjRhpOWjVmWROd18bMLnXWJr4lxw6E-s0S4kvn4LQjeZX1CAt-ysxtz6G0vBJ-W0n96ml37iDlT8G8Xeq5skph3530nGIljlto5dBDvnCE5V24MoLvrBM-anlulgQ_UgzAWdPEFdf7GJfW64ItOp6L-k-n_W8uP9aUTRr8YbHcB0UynJIDCTJ0nBn0s9IvYLKVUAcsZHQSHdpeJWTcgvTUGgqfuTwCCnzrKXrMjyJTTKFoc5zA2pKHFsfKYEzpiEf_O1Qyajkz1m2Xy40jSwwaLJN_1FpszepGxQFDZH6UF8qfjaeE3sIPBJLh6-Z95j_8XaGRYZ36GbaUiP1azoqv9sxz_7BoH1qITCOD4ALuOY9D0TChrlKxRxXRSJ2xKEPwvyj5BYQqng0P1sEnD5jLwuf_rpzfkKwXjaHx3H0shVHWO8D84MyA-2ac5CXxvR7afspqXAAxOf3Zms12oCvt44KQGlLtFlElQcNlk6SMTWFEcyJ2TnVqjky_CZIUo1xIzRL4suuw9cLnW1uQiqhsN5Up-6bLSWtaJblhxKKXUQn-B1UObR4tCu97v7MTFkQvzNo-B6QFDjPECF_6x-0xOx8fjxkgIYG_BtyHI_G5aTh3w5rcS0EM.\n"
     ]
    }
   ],
   "source": [
    "api.set_division(2304699)"
   ]
  },
  {
   "cell_type": "code",
   "execution_count": 13,
   "id": "9585f2ad",
   "metadata": {},
   "outputs": [
    {
     "name": "stdout",
     "output_type": "stream",
     "text": [
      "Fetching division from local INI file: 2304699 and az_resource=None\n",
      "Fetching division from local INI file: 2304699 and az_resource=None\n",
      "Fetching value iteration_limit from Azure App Configuration: 50.\n",
      "Fetching secret access_expiry from Azure Key Vault: 1751883912.\n",
      "Fetching value rest_url from Azure App Configuration: https://start.exactonline.nl/api.\n",
      "Fetching secret access_token from Azure Key Vault: stampNL001.gAAAAH_-ajFb2eC4P3FN0CQ4yyRN7BNbAVP52LV7l_t5AFXYHDLH8tsF2Xied_TvEMiJHEv4uF3lmNXoEdIIjyKX1srLiSjR8PIXrCka3EY32378T_fEU4mlECZfK5wcwlv3HX1qG5EhajPxEq5LSQg76lAki6lirj9O9dxqfHufZJ_iRAIAAIAAAAB54_N49DuIFqYi0nhJENo37syyBIHng9tbpwHXPSAKwulnj_7w1CgeRgtArxLIbWcc9gl9BKalThqEDEGQERsOQtk8s4WEusfg8MI2SpPCtK2Rrg3svoD9gW94b2KH__UaRZtQjLp7bbjRhpOWjVmWROd18bMLnXWJr4lxw6E-s0S4kvn4LQjeZX1CAt-ysxtz6G0vBJ-W0n96ml37iDlT8G8Xeq5skph3530nGIljlto5dBDvnCE5V24MoLvrBM-anlulgQ_UgzAWdPEFdf7GJfW64ItOp6L-k-n_W8uP9aUTRr8YbHcB0UynJIDCTJ0nBn0s9IvYLKVUAcsZHQSHdpeJWTcgvTUGgqfuTwCCnzrKXrMjyJTTKFoc5zA2pKHFsfKYEzpiEf_O1Qyajkz1m2Xy40jSwwaLJN_1FpszepGxQFDZH6UF8qfjaeE3sIPBJLh6-Z95j_8XaGRYZ36GbaUiP1azoqv9sxz_7BoH1qITCOD4ALuOY9D0TChrlKxRxXRSJ2xKEPwvyj5BYQqng0P1sEnD5jLwuf_rpzfkKwXjaHx3H0shVHWO8D84MyA-2ac5CXxvR7afspqXAAxOf3Zms12oCvt44KQGlLtFlElQcNlk6SMTWFEcyJ2TnVqjky_CZIUo1xIzRL4suuw9cLnW1uQiqhsN5Up-6bLSWtaJblhxKKXUQn-B1UObR4tCu97v7MTFkQvzNo-B6QFDjPECF_6x-0xOx8fjxkgIYG_BtyHI_G5aTh3w5rcS0EM.\n"
     ]
    },
    {
     "data": {
      "text/plain": [
       "[{'__metadata': {'uri': \"https://start.exactonline.nl/api/v1/2304699/crm/BankAccounts(guid'c2981291-3845-45c4-8178-3ca9bf63aa26')\",\n",
       "   'type': 'Exact.Web.Api.Models.BankAccount'},\n",
       "  'AccountName': 'Stichting Petje af Nederland',\n",
       "  'IBAN': 'NL65RABO0140322965'},\n",
       " {'__metadata': {'uri': \"https://start.exactonline.nl/api/v1/2304699/crm/BankAccounts(guid'f8babd65-9f1e-4ec9-9239-441da8e912bc')\",\n",
       "   'type': 'Exact.Web.Api.Models.BankAccount'},\n",
       "  'AccountName': 'Stichting Petje af Nederland',\n",
       "  'IBAN': 'NL33RABO0124165184'},\n",
       " {'__metadata': {'uri': \"https://start.exactonline.nl/api/v1/2304699/crm/BankAccounts(guid'e5f31183-54da-4ab2-b222-b24555888228')\",\n",
       "   'type': 'Exact.Web.Api.Models.BankAccount'},\n",
       "  'AccountName': 'Stichting Petje af Nederland',\n",
       "  'IBAN': 'NL06RABO3311805569'},\n",
       " {'__metadata': {'uri': \"https://start.exactonline.nl/api/v1/2304699/crm/BankAccounts(guid'e9ce1776-61d1-4d21-9505-b3425b22dba6')\",\n",
       "   'type': 'Exact.Web.Api.Models.BankAccount'},\n",
       "  'AccountName': 'Stichting Petje af Nederland',\n",
       "  'IBAN': 'NL21RABO1273107217'}]"
      ]
     },
     "execution_count": 13,
     "metadata": {},
     "output_type": "execute_result"
    }
   ],
   "source": [
    "bankaccounts = api.restv1(GET('crm/BankAccounts?$select=AccountName,IBAN'))\n",
    "bankaccounts"
   ]
  },
  {
   "cell_type": "code",
   "execution_count": 14,
   "id": "24ee1132",
   "metadata": {},
   "outputs": [
    {
     "name": "stdout",
     "output_type": "stream",
     "text": [
      "Fetching division from local INI file: 2304699 and az_resource=None\n",
      "Fetching division from local INI file: 2304699 and az_resource=None\n",
      "Fetching value iteration_limit from Azure App Configuration: 50.\n",
      "Fetching secret access_expiry from Azure Key Vault: 1751883912.\n",
      "Fetching value rest_url from Azure App Configuration: https://start.exactonline.nl/api.\n",
      "Fetching secret access_token from Azure Key Vault: stampNL001.gAAAAH_-ajFb2eC4P3FN0CQ4yyRN7BNbAVP52LV7l_t5AFXYHDLH8tsF2Xied_TvEMiJHEv4uF3lmNXoEdIIjyKX1srLiSjR8PIXrCka3EY32378T_fEU4mlECZfK5wcwlv3HX1qG5EhajPxEq5LSQg76lAki6lirj9O9dxqfHufZJ_iRAIAAIAAAAB54_N49DuIFqYi0nhJENo37syyBIHng9tbpwHXPSAKwulnj_7w1CgeRgtArxLIbWcc9gl9BKalThqEDEGQERsOQtk8s4WEusfg8MI2SpPCtK2Rrg3svoD9gW94b2KH__UaRZtQjLp7bbjRhpOWjVmWROd18bMLnXWJr4lxw6E-s0S4kvn4LQjeZX1CAt-ysxtz6G0vBJ-W0n96ml37iDlT8G8Xeq5skph3530nGIljlto5dBDvnCE5V24MoLvrBM-anlulgQ_UgzAWdPEFdf7GJfW64ItOp6L-k-n_W8uP9aUTRr8YbHcB0UynJIDCTJ0nBn0s9IvYLKVUAcsZHQSHdpeJWTcgvTUGgqfuTwCCnzrKXrMjyJTTKFoc5zA2pKHFsfKYEzpiEf_O1Qyajkz1m2Xy40jSwwaLJN_1FpszepGxQFDZH6UF8qfjaeE3sIPBJLh6-Z95j_8XaGRYZ36GbaUiP1azoqv9sxz_7BoH1qITCOD4ALuOY9D0TChrlKxRxXRSJ2xKEPwvyj5BYQqng0P1sEnD5jLwuf_rpzfkKwXjaHx3H0shVHWO8D84MyA-2ac5CXxvR7afspqXAAxOf3Zms12oCvt44KQGlLtFlElQcNlk6SMTWFEcyJ2TnVqjky_CZIUo1xIzRL4suuw9cLnW1uQiqhsN5Up-6bLSWtaJblhxKKXUQn-B1UObR4tCu97v7MTFkQvzNo-B6QFDjPECF_6x-0xOx8fjxkgIYG_BtyHI_G5aTh3w5rcS0EM.\n",
      "Fetching secret access_expiry from Azure Key Vault: 1751883912.\n",
      "Fetching value rest_url from Azure App Configuration: https://start.exactonline.nl/api.\n",
      "Fetching secret access_token from Azure Key Vault: stampNL001.gAAAAH_-ajFb2eC4P3FN0CQ4yyRN7BNbAVP52LV7l_t5AFXYHDLH8tsF2Xied_TvEMiJHEv4uF3lmNXoEdIIjyKX1srLiSjR8PIXrCka3EY32378T_fEU4mlECZfK5wcwlv3HX1qG5EhajPxEq5LSQg76lAki6lirj9O9dxqfHufZJ_iRAIAAIAAAAB54_N49DuIFqYi0nhJENo37syyBIHng9tbpwHXPSAKwulnj_7w1CgeRgtArxLIbWcc9gl9BKalThqEDEGQERsOQtk8s4WEusfg8MI2SpPCtK2Rrg3svoD9gW94b2KH__UaRZtQjLp7bbjRhpOWjVmWROd18bMLnXWJr4lxw6E-s0S4kvn4LQjeZX1CAt-ysxtz6G0vBJ-W0n96ml37iDlT8G8Xeq5skph3530nGIljlto5dBDvnCE5V24MoLvrBM-anlulgQ_UgzAWdPEFdf7GJfW64ItOp6L-k-n_W8uP9aUTRr8YbHcB0UynJIDCTJ0nBn0s9IvYLKVUAcsZHQSHdpeJWTcgvTUGgqfuTwCCnzrKXrMjyJTTKFoc5zA2pKHFsfKYEzpiEf_O1Qyajkz1m2Xy40jSwwaLJN_1FpszepGxQFDZH6UF8qfjaeE3sIPBJLh6-Z95j_8XaGRYZ36GbaUiP1azoqv9sxz_7BoH1qITCOD4ALuOY9D0TChrlKxRxXRSJ2xKEPwvyj5BYQqng0P1sEnD5jLwuf_rpzfkKwXjaHx3H0shVHWO8D84MyA-2ac5CXxvR7afspqXAAxOf3Zms12oCvt44KQGlLtFlElQcNlk6SMTWFEcyJ2TnVqjky_CZIUo1xIzRL4suuw9cLnW1uQiqhsN5Up-6bLSWtaJblhxKKXUQn-B1UObR4tCu97v7MTFkQvzNo-B6QFDjPECF_6x-0xOx8fjxkgIYG_BtyHI_G5aTh3w5rcS0EM.\n",
      "Fetching secret access_expiry from Azure Key Vault: 1751883912.\n",
      "Fetching value rest_url from Azure App Configuration: https://start.exactonline.nl/api.\n",
      "Fetching secret access_token from Azure Key Vault: stampNL001.gAAAAH_-ajFb2eC4P3FN0CQ4yyRN7BNbAVP52LV7l_t5AFXYHDLH8tsF2Xied_TvEMiJHEv4uF3lmNXoEdIIjyKX1srLiSjR8PIXrCka3EY32378T_fEU4mlECZfK5wcwlv3HX1qG5EhajPxEq5LSQg76lAki6lirj9O9dxqfHufZJ_iRAIAAIAAAAB54_N49DuIFqYi0nhJENo37syyBIHng9tbpwHXPSAKwulnj_7w1CgeRgtArxLIbWcc9gl9BKalThqEDEGQERsOQtk8s4WEusfg8MI2SpPCtK2Rrg3svoD9gW94b2KH__UaRZtQjLp7bbjRhpOWjVmWROd18bMLnXWJr4lxw6E-s0S4kvn4LQjeZX1CAt-ysxtz6G0vBJ-W0n96ml37iDlT8G8Xeq5skph3530nGIljlto5dBDvnCE5V24MoLvrBM-anlulgQ_UgzAWdPEFdf7GJfW64ItOp6L-k-n_W8uP9aUTRr8YbHcB0UynJIDCTJ0nBn0s9IvYLKVUAcsZHQSHdpeJWTcgvTUGgqfuTwCCnzrKXrMjyJTTKFoc5zA2pKHFsfKYEzpiEf_O1Qyajkz1m2Xy40jSwwaLJN_1FpszepGxQFDZH6UF8qfjaeE3sIPBJLh6-Z95j_8XaGRYZ36GbaUiP1azoqv9sxz_7BoH1qITCOD4ALuOY9D0TChrlKxRxXRSJ2xKEPwvyj5BYQqng0P1sEnD5jLwuf_rpzfkKwXjaHx3H0shVHWO8D84MyA-2ac5CXxvR7afspqXAAxOf3Zms12oCvt44KQGlLtFlElQcNlk6SMTWFEcyJ2TnVqjky_CZIUo1xIzRL4suuw9cLnW1uQiqhsN5Up-6bLSWtaJblhxKKXUQn-B1UObR4tCu97v7MTFkQvzNo-B6QFDjPECF_6x-0xOx8fjxkgIYG_BtyHI_G5aTh3w5rcS0EM.\n",
      "Fetching secret access_expiry from Azure Key Vault: 1751883912.\n",
      "Fetching value rest_url from Azure App Configuration: https://start.exactonline.nl/api.\n",
      "Fetching secret access_token from Azure Key Vault: stampNL001.gAAAAH_-ajFb2eC4P3FN0CQ4yyRN7BNbAVP52LV7l_t5AFXYHDLH8tsF2Xied_TvEMiJHEv4uF3lmNXoEdIIjyKX1srLiSjR8PIXrCka3EY32378T_fEU4mlECZfK5wcwlv3HX1qG5EhajPxEq5LSQg76lAki6lirj9O9dxqfHufZJ_iRAIAAIAAAAB54_N49DuIFqYi0nhJENo37syyBIHng9tbpwHXPSAKwulnj_7w1CgeRgtArxLIbWcc9gl9BKalThqEDEGQERsOQtk8s4WEusfg8MI2SpPCtK2Rrg3svoD9gW94b2KH__UaRZtQjLp7bbjRhpOWjVmWROd18bMLnXWJr4lxw6E-s0S4kvn4LQjeZX1CAt-ysxtz6G0vBJ-W0n96ml37iDlT8G8Xeq5skph3530nGIljlto5dBDvnCE5V24MoLvrBM-anlulgQ_UgzAWdPEFdf7GJfW64ItOp6L-k-n_W8uP9aUTRr8YbHcB0UynJIDCTJ0nBn0s9IvYLKVUAcsZHQSHdpeJWTcgvTUGgqfuTwCCnzrKXrMjyJTTKFoc5zA2pKHFsfKYEzpiEf_O1Qyajkz1m2Xy40jSwwaLJN_1FpszepGxQFDZH6UF8qfjaeE3sIPBJLh6-Z95j_8XaGRYZ36GbaUiP1azoqv9sxz_7BoH1qITCOD4ALuOY9D0TChrlKxRxXRSJ2xKEPwvyj5BYQqng0P1sEnD5jLwuf_rpzfkKwXjaHx3H0shVHWO8D84MyA-2ac5CXxvR7afspqXAAxOf3Zms12oCvt44KQGlLtFlElQcNlk6SMTWFEcyJ2TnVqjky_CZIUo1xIzRL4suuw9cLnW1uQiqhsN5Up-6bLSWtaJblhxKKXUQn-B1UObR4tCu97v7MTFkQvzNo-B6QFDjPECF_6x-0xOx8fjxkgIYG_BtyHI_G5aTh3w5rcS0EM.\n",
      "Fetching secret access_expiry from Azure Key Vault: 1751883912.\n",
      "Fetching value rest_url from Azure App Configuration: https://start.exactonline.nl/api.\n",
      "Fetching secret access_token from Azure Key Vault: stampNL001.gAAAAH_-ajFb2eC4P3FN0CQ4yyRN7BNbAVP52LV7l_t5AFXYHDLH8tsF2Xied_TvEMiJHEv4uF3lmNXoEdIIjyKX1srLiSjR8PIXrCka3EY32378T_fEU4mlECZfK5wcwlv3HX1qG5EhajPxEq5LSQg76lAki6lirj9O9dxqfHufZJ_iRAIAAIAAAAB54_N49DuIFqYi0nhJENo37syyBIHng9tbpwHXPSAKwulnj_7w1CgeRgtArxLIbWcc9gl9BKalThqEDEGQERsOQtk8s4WEusfg8MI2SpPCtK2Rrg3svoD9gW94b2KH__UaRZtQjLp7bbjRhpOWjVmWROd18bMLnXWJr4lxw6E-s0S4kvn4LQjeZX1CAt-ysxtz6G0vBJ-W0n96ml37iDlT8G8Xeq5skph3530nGIljlto5dBDvnCE5V24MoLvrBM-anlulgQ_UgzAWdPEFdf7GJfW64ItOp6L-k-n_W8uP9aUTRr8YbHcB0UynJIDCTJ0nBn0s9IvYLKVUAcsZHQSHdpeJWTcgvTUGgqfuTwCCnzrKXrMjyJTTKFoc5zA2pKHFsfKYEzpiEf_O1Qyajkz1m2Xy40jSwwaLJN_1FpszepGxQFDZH6UF8qfjaeE3sIPBJLh6-Z95j_8XaGRYZ36GbaUiP1azoqv9sxz_7BoH1qITCOD4ALuOY9D0TChrlKxRxXRSJ2xKEPwvyj5BYQqng0P1sEnD5jLwuf_rpzfkKwXjaHx3H0shVHWO8D84MyA-2ac5CXxvR7afspqXAAxOf3Zms12oCvt44KQGlLtFlElQcNlk6SMTWFEcyJ2TnVqjky_CZIUo1xIzRL4suuw9cLnW1uQiqhsN5Up-6bLSWtaJblhxKKXUQn-B1UObR4tCu97v7MTFkQvzNo-B6QFDjPECF_6x-0xOx8fjxkgIYG_BtyHI_G5aTh3w5rcS0EM.\n",
      "Fetching secret access_expiry from Azure Key Vault: 1751883912.\n",
      "Fetching value rest_url from Azure App Configuration: https://start.exactonline.nl/api.\n",
      "Fetching secret access_token from Azure Key Vault: stampNL001.gAAAAH_-ajFb2eC4P3FN0CQ4yyRN7BNbAVP52LV7l_t5AFXYHDLH8tsF2Xied_TvEMiJHEv4uF3lmNXoEdIIjyKX1srLiSjR8PIXrCka3EY32378T_fEU4mlECZfK5wcwlv3HX1qG5EhajPxEq5LSQg76lAki6lirj9O9dxqfHufZJ_iRAIAAIAAAAB54_N49DuIFqYi0nhJENo37syyBIHng9tbpwHXPSAKwulnj_7w1CgeRgtArxLIbWcc9gl9BKalThqEDEGQERsOQtk8s4WEusfg8MI2SpPCtK2Rrg3svoD9gW94b2KH__UaRZtQjLp7bbjRhpOWjVmWROd18bMLnXWJr4lxw6E-s0S4kvn4LQjeZX1CAt-ysxtz6G0vBJ-W0n96ml37iDlT8G8Xeq5skph3530nGIljlto5dBDvnCE5V24MoLvrBM-anlulgQ_UgzAWdPEFdf7GJfW64ItOp6L-k-n_W8uP9aUTRr8YbHcB0UynJIDCTJ0nBn0s9IvYLKVUAcsZHQSHdpeJWTcgvTUGgqfuTwCCnzrKXrMjyJTTKFoc5zA2pKHFsfKYEzpiEf_O1Qyajkz1m2Xy40jSwwaLJN_1FpszepGxQFDZH6UF8qfjaeE3sIPBJLh6-Z95j_8XaGRYZ36GbaUiP1azoqv9sxz_7BoH1qITCOD4ALuOY9D0TChrlKxRxXRSJ2xKEPwvyj5BYQqng0P1sEnD5jLwuf_rpzfkKwXjaHx3H0shVHWO8D84MyA-2ac5CXxvR7afspqXAAxOf3Zms12oCvt44KQGlLtFlElQcNlk6SMTWFEcyJ2TnVqjky_CZIUo1xIzRL4suuw9cLnW1uQiqhsN5Up-6bLSWtaJblhxKKXUQn-B1UObR4tCu97v7MTFkQvzNo-B6QFDjPECF_6x-0xOx8fjxkgIYG_BtyHI_G5aTh3w5rcS0EM.\n",
      "Fetching secret access_expiry from Azure Key Vault: 1751883912.\n",
      "Fetching value rest_url from Azure App Configuration: https://start.exactonline.nl/api.\n",
      "Fetching secret access_token from Azure Key Vault: stampNL001.gAAAAH_-ajFb2eC4P3FN0CQ4yyRN7BNbAVP52LV7l_t5AFXYHDLH8tsF2Xied_TvEMiJHEv4uF3lmNXoEdIIjyKX1srLiSjR8PIXrCka3EY32378T_fEU4mlECZfK5wcwlv3HX1qG5EhajPxEq5LSQg76lAki6lirj9O9dxqfHufZJ_iRAIAAIAAAAB54_N49DuIFqYi0nhJENo37syyBIHng9tbpwHXPSAKwulnj_7w1CgeRgtArxLIbWcc9gl9BKalThqEDEGQERsOQtk8s4WEusfg8MI2SpPCtK2Rrg3svoD9gW94b2KH__UaRZtQjLp7bbjRhpOWjVmWROd18bMLnXWJr4lxw6E-s0S4kvn4LQjeZX1CAt-ysxtz6G0vBJ-W0n96ml37iDlT8G8Xeq5skph3530nGIljlto5dBDvnCE5V24MoLvrBM-anlulgQ_UgzAWdPEFdf7GJfW64ItOp6L-k-n_W8uP9aUTRr8YbHcB0UynJIDCTJ0nBn0s9IvYLKVUAcsZHQSHdpeJWTcgvTUGgqfuTwCCnzrKXrMjyJTTKFoc5zA2pKHFsfKYEzpiEf_O1Qyajkz1m2Xy40jSwwaLJN_1FpszepGxQFDZH6UF8qfjaeE3sIPBJLh6-Z95j_8XaGRYZ36GbaUiP1azoqv9sxz_7BoH1qITCOD4ALuOY9D0TChrlKxRxXRSJ2xKEPwvyj5BYQqng0P1sEnD5jLwuf_rpzfkKwXjaHx3H0shVHWO8D84MyA-2ac5CXxvR7afspqXAAxOf3Zms12oCvt44KQGlLtFlElQcNlk6SMTWFEcyJ2TnVqjky_CZIUo1xIzRL4suuw9cLnW1uQiqhsN5Up-6bLSWtaJblhxKKXUQn-B1UObR4tCu97v7MTFkQvzNo-B6QFDjPECF_6x-0xOx8fjxkgIYG_BtyHI_G5aTh3w5rcS0EM.\n",
      "Fetching secret access_expiry from Azure Key Vault: 1751883912.\n",
      "Fetching value rest_url from Azure App Configuration: https://start.exactonline.nl/api.\n",
      "Fetching secret access_token from Azure Key Vault: stampNL001.gAAAAH_-ajFb2eC4P3FN0CQ4yyRN7BNbAVP52LV7l_t5AFXYHDLH8tsF2Xied_TvEMiJHEv4uF3lmNXoEdIIjyKX1srLiSjR8PIXrCka3EY32378T_fEU4mlECZfK5wcwlv3HX1qG5EhajPxEq5LSQg76lAki6lirj9O9dxqfHufZJ_iRAIAAIAAAAB54_N49DuIFqYi0nhJENo37syyBIHng9tbpwHXPSAKwulnj_7w1CgeRgtArxLIbWcc9gl9BKalThqEDEGQERsOQtk8s4WEusfg8MI2SpPCtK2Rrg3svoD9gW94b2KH__UaRZtQjLp7bbjRhpOWjVmWROd18bMLnXWJr4lxw6E-s0S4kvn4LQjeZX1CAt-ysxtz6G0vBJ-W0n96ml37iDlT8G8Xeq5skph3530nGIljlto5dBDvnCE5V24MoLvrBM-anlulgQ_UgzAWdPEFdf7GJfW64ItOp6L-k-n_W8uP9aUTRr8YbHcB0UynJIDCTJ0nBn0s9IvYLKVUAcsZHQSHdpeJWTcgvTUGgqfuTwCCnzrKXrMjyJTTKFoc5zA2pKHFsfKYEzpiEf_O1Qyajkz1m2Xy40jSwwaLJN_1FpszepGxQFDZH6UF8qfjaeE3sIPBJLh6-Z95j_8XaGRYZ36GbaUiP1azoqv9sxz_7BoH1qITCOD4ALuOY9D0TChrlKxRxXRSJ2xKEPwvyj5BYQqng0P1sEnD5jLwuf_rpzfkKwXjaHx3H0shVHWO8D84MyA-2ac5CXxvR7afspqXAAxOf3Zms12oCvt44KQGlLtFlElQcNlk6SMTWFEcyJ2TnVqjky_CZIUo1xIzRL4suuw9cLnW1uQiqhsN5Up-6bLSWtaJblhxKKXUQn-B1UObR4tCu97v7MTFkQvzNo-B6QFDjPECF_6x-0xOx8fjxkgIYG_BtyHI_G5aTh3w5rcS0EM.\n",
      "Fetching secret access_expiry from Azure Key Vault: 1751883912.\n",
      "Fetching value rest_url from Azure App Configuration: https://start.exactonline.nl/api.\n",
      "Fetching secret access_token from Azure Key Vault: stampNL001.gAAAAH_-ajFb2eC4P3FN0CQ4yyRN7BNbAVP52LV7l_t5AFXYHDLH8tsF2Xied_TvEMiJHEv4uF3lmNXoEdIIjyKX1srLiSjR8PIXrCka3EY32378T_fEU4mlECZfK5wcwlv3HX1qG5EhajPxEq5LSQg76lAki6lirj9O9dxqfHufZJ_iRAIAAIAAAAB54_N49DuIFqYi0nhJENo37syyBIHng9tbpwHXPSAKwulnj_7w1CgeRgtArxLIbWcc9gl9BKalThqEDEGQERsOQtk8s4WEusfg8MI2SpPCtK2Rrg3svoD9gW94b2KH__UaRZtQjLp7bbjRhpOWjVmWROd18bMLnXWJr4lxw6E-s0S4kvn4LQjeZX1CAt-ysxtz6G0vBJ-W0n96ml37iDlT8G8Xeq5skph3530nGIljlto5dBDvnCE5V24MoLvrBM-anlulgQ_UgzAWdPEFdf7GJfW64ItOp6L-k-n_W8uP9aUTRr8YbHcB0UynJIDCTJ0nBn0s9IvYLKVUAcsZHQSHdpeJWTcgvTUGgqfuTwCCnzrKXrMjyJTTKFoc5zA2pKHFsfKYEzpiEf_O1Qyajkz1m2Xy40jSwwaLJN_1FpszepGxQFDZH6UF8qfjaeE3sIPBJLh6-Z95j_8XaGRYZ36GbaUiP1azoqv9sxz_7BoH1qITCOD4ALuOY9D0TChrlKxRxXRSJ2xKEPwvyj5BYQqng0P1sEnD5jLwuf_rpzfkKwXjaHx3H0shVHWO8D84MyA-2ac5CXxvR7afspqXAAxOf3Zms12oCvt44KQGlLtFlElQcNlk6SMTWFEcyJ2TnVqjky_CZIUo1xIzRL4suuw9cLnW1uQiqhsN5Up-6bLSWtaJblhxKKXUQn-B1UObR4tCu97v7MTFkQvzNo-B6QFDjPECF_6x-0xOx8fjxkgIYG_BtyHI_G5aTh3w5rcS0EM.\n",
      "Fetching secret access_expiry from Azure Key Vault: 1751883912.\n",
      "Fetching value rest_url from Azure App Configuration: https://start.exactonline.nl/api.\n",
      "Fetching secret access_token from Azure Key Vault: stampNL001.gAAAAH_-ajFb2eC4P3FN0CQ4yyRN7BNbAVP52LV7l_t5AFXYHDLH8tsF2Xied_TvEMiJHEv4uF3lmNXoEdIIjyKX1srLiSjR8PIXrCka3EY32378T_fEU4mlECZfK5wcwlv3HX1qG5EhajPxEq5LSQg76lAki6lirj9O9dxqfHufZJ_iRAIAAIAAAAB54_N49DuIFqYi0nhJENo37syyBIHng9tbpwHXPSAKwulnj_7w1CgeRgtArxLIbWcc9gl9BKalThqEDEGQERsOQtk8s4WEusfg8MI2SpPCtK2Rrg3svoD9gW94b2KH__UaRZtQjLp7bbjRhpOWjVmWROd18bMLnXWJr4lxw6E-s0S4kvn4LQjeZX1CAt-ysxtz6G0vBJ-W0n96ml37iDlT8G8Xeq5skph3530nGIljlto5dBDvnCE5V24MoLvrBM-anlulgQ_UgzAWdPEFdf7GJfW64ItOp6L-k-n_W8uP9aUTRr8YbHcB0UynJIDCTJ0nBn0s9IvYLKVUAcsZHQSHdpeJWTcgvTUGgqfuTwCCnzrKXrMjyJTTKFoc5zA2pKHFsfKYEzpiEf_O1Qyajkz1m2Xy40jSwwaLJN_1FpszepGxQFDZH6UF8qfjaeE3sIPBJLh6-Z95j_8XaGRYZ36GbaUiP1azoqv9sxz_7BoH1qITCOD4ALuOY9D0TChrlKxRxXRSJ2xKEPwvyj5BYQqng0P1sEnD5jLwuf_rpzfkKwXjaHx3H0shVHWO8D84MyA-2ac5CXxvR7afspqXAAxOf3Zms12oCvt44KQGlLtFlElQcNlk6SMTWFEcyJ2TnVqjky_CZIUo1xIzRL4suuw9cLnW1uQiqhsN5Up-6bLSWtaJblhxKKXUQn-B1UObR4tCu97v7MTFkQvzNo-B6QFDjPECF_6x-0xOx8fjxkgIYG_BtyHI_G5aTh3w5rcS0EM.\n",
      "Fetching secret access_expiry from Azure Key Vault: 1751883912.\n",
      "Fetching value rest_url from Azure App Configuration: https://start.exactonline.nl/api.\n",
      "Fetching secret access_token from Azure Key Vault: stampNL001.gAAAAH_-ajFb2eC4P3FN0CQ4yyRN7BNbAVP52LV7l_t5AFXYHDLH8tsF2Xied_TvEMiJHEv4uF3lmNXoEdIIjyKX1srLiSjR8PIXrCka3EY32378T_fEU4mlECZfK5wcwlv3HX1qG5EhajPxEq5LSQg76lAki6lirj9O9dxqfHufZJ_iRAIAAIAAAAB54_N49DuIFqYi0nhJENo37syyBIHng9tbpwHXPSAKwulnj_7w1CgeRgtArxLIbWcc9gl9BKalThqEDEGQERsOQtk8s4WEusfg8MI2SpPCtK2Rrg3svoD9gW94b2KH__UaRZtQjLp7bbjRhpOWjVmWROd18bMLnXWJr4lxw6E-s0S4kvn4LQjeZX1CAt-ysxtz6G0vBJ-W0n96ml37iDlT8G8Xeq5skph3530nGIljlto5dBDvnCE5V24MoLvrBM-anlulgQ_UgzAWdPEFdf7GJfW64ItOp6L-k-n_W8uP9aUTRr8YbHcB0UynJIDCTJ0nBn0s9IvYLKVUAcsZHQSHdpeJWTcgvTUGgqfuTwCCnzrKXrMjyJTTKFoc5zA2pKHFsfKYEzpiEf_O1Qyajkz1m2Xy40jSwwaLJN_1FpszepGxQFDZH6UF8qfjaeE3sIPBJLh6-Z95j_8XaGRYZ36GbaUiP1azoqv9sxz_7BoH1qITCOD4ALuOY9D0TChrlKxRxXRSJ2xKEPwvyj5BYQqng0P1sEnD5jLwuf_rpzfkKwXjaHx3H0shVHWO8D84MyA-2ac5CXxvR7afspqXAAxOf3Zms12oCvt44KQGlLtFlElQcNlk6SMTWFEcyJ2TnVqjky_CZIUo1xIzRL4suuw9cLnW1uQiqhsN5Up-6bLSWtaJblhxKKXUQn-B1UObR4tCu97v7MTFkQvzNo-B6QFDjPECF_6x-0xOx8fjxkgIYG_BtyHI_G5aTh3w5rcS0EM.\n",
      "Fetching secret access_expiry from Azure Key Vault: 1751883912.\n",
      "Fetching value rest_url from Azure App Configuration: https://start.exactonline.nl/api.\n",
      "Fetching secret access_token from Azure Key Vault: stampNL001.gAAAAH_-ajFb2eC4P3FN0CQ4yyRN7BNbAVP52LV7l_t5AFXYHDLH8tsF2Xied_TvEMiJHEv4uF3lmNXoEdIIjyKX1srLiSjR8PIXrCka3EY32378T_fEU4mlECZfK5wcwlv3HX1qG5EhajPxEq5LSQg76lAki6lirj9O9dxqfHufZJ_iRAIAAIAAAAB54_N49DuIFqYi0nhJENo37syyBIHng9tbpwHXPSAKwulnj_7w1CgeRgtArxLIbWcc9gl9BKalThqEDEGQERsOQtk8s4WEusfg8MI2SpPCtK2Rrg3svoD9gW94b2KH__UaRZtQjLp7bbjRhpOWjVmWROd18bMLnXWJr4lxw6E-s0S4kvn4LQjeZX1CAt-ysxtz6G0vBJ-W0n96ml37iDlT8G8Xeq5skph3530nGIljlto5dBDvnCE5V24MoLvrBM-anlulgQ_UgzAWdPEFdf7GJfW64ItOp6L-k-n_W8uP9aUTRr8YbHcB0UynJIDCTJ0nBn0s9IvYLKVUAcsZHQSHdpeJWTcgvTUGgqfuTwCCnzrKXrMjyJTTKFoc5zA2pKHFsfKYEzpiEf_O1Qyajkz1m2Xy40jSwwaLJN_1FpszepGxQFDZH6UF8qfjaeE3sIPBJLh6-Z95j_8XaGRYZ36GbaUiP1azoqv9sxz_7BoH1qITCOD4ALuOY9D0TChrlKxRxXRSJ2xKEPwvyj5BYQqng0P1sEnD5jLwuf_rpzfkKwXjaHx3H0shVHWO8D84MyA-2ac5CXxvR7afspqXAAxOf3Zms12oCvt44KQGlLtFlElQcNlk6SMTWFEcyJ2TnVqjky_CZIUo1xIzRL4suuw9cLnW1uQiqhsN5Up-6bLSWtaJblhxKKXUQn-B1UObR4tCu97v7MTFkQvzNo-B6QFDjPECF_6x-0xOx8fjxkgIYG_BtyHI_G5aTh3w5rcS0EM.\n",
      "Fetching secret access_expiry from Azure Key Vault: 1751883912.\n",
      "Fetching value rest_url from Azure App Configuration: https://start.exactonline.nl/api.\n",
      "Fetching secret access_token from Azure Key Vault: stampNL001.gAAAAH_-ajFb2eC4P3FN0CQ4yyRN7BNbAVP52LV7l_t5AFXYHDLH8tsF2Xied_TvEMiJHEv4uF3lmNXoEdIIjyKX1srLiSjR8PIXrCka3EY32378T_fEU4mlECZfK5wcwlv3HX1qG5EhajPxEq5LSQg76lAki6lirj9O9dxqfHufZJ_iRAIAAIAAAAB54_N49DuIFqYi0nhJENo37syyBIHng9tbpwHXPSAKwulnj_7w1CgeRgtArxLIbWcc9gl9BKalThqEDEGQERsOQtk8s4WEusfg8MI2SpPCtK2Rrg3svoD9gW94b2KH__UaRZtQjLp7bbjRhpOWjVmWROd18bMLnXWJr4lxw6E-s0S4kvn4LQjeZX1CAt-ysxtz6G0vBJ-W0n96ml37iDlT8G8Xeq5skph3530nGIljlto5dBDvnCE5V24MoLvrBM-anlulgQ_UgzAWdPEFdf7GJfW64ItOp6L-k-n_W8uP9aUTRr8YbHcB0UynJIDCTJ0nBn0s9IvYLKVUAcsZHQSHdpeJWTcgvTUGgqfuTwCCnzrKXrMjyJTTKFoc5zA2pKHFsfKYEzpiEf_O1Qyajkz1m2Xy40jSwwaLJN_1FpszepGxQFDZH6UF8qfjaeE3sIPBJLh6-Z95j_8XaGRYZ36GbaUiP1azoqv9sxz_7BoH1qITCOD4ALuOY9D0TChrlKxRxXRSJ2xKEPwvyj5BYQqng0P1sEnD5jLwuf_rpzfkKwXjaHx3H0shVHWO8D84MyA-2ac5CXxvR7afspqXAAxOf3Zms12oCvt44KQGlLtFlElQcNlk6SMTWFEcyJ2TnVqjky_CZIUo1xIzRL4suuw9cLnW1uQiqhsN5Up-6bLSWtaJblhxKKXUQn-B1UObR4tCu97v7MTFkQvzNo-B6QFDjPECF_6x-0xOx8fjxkgIYG_BtyHI_G5aTh3w5rcS0EM.\n",
      "Fetching secret access_expiry from Azure Key Vault: 1751883912.\n",
      "Fetching value rest_url from Azure App Configuration: https://start.exactonline.nl/api.\n",
      "Fetching secret access_token from Azure Key Vault: stampNL001.gAAAAH_-ajFb2eC4P3FN0CQ4yyRN7BNbAVP52LV7l_t5AFXYHDLH8tsF2Xied_TvEMiJHEv4uF3lmNXoEdIIjyKX1srLiSjR8PIXrCka3EY32378T_fEU4mlECZfK5wcwlv3HX1qG5EhajPxEq5LSQg76lAki6lirj9O9dxqfHufZJ_iRAIAAIAAAAB54_N49DuIFqYi0nhJENo37syyBIHng9tbpwHXPSAKwulnj_7w1CgeRgtArxLIbWcc9gl9BKalThqEDEGQERsOQtk8s4WEusfg8MI2SpPCtK2Rrg3svoD9gW94b2KH__UaRZtQjLp7bbjRhpOWjVmWROd18bMLnXWJr4lxw6E-s0S4kvn4LQjeZX1CAt-ysxtz6G0vBJ-W0n96ml37iDlT8G8Xeq5skph3530nGIljlto5dBDvnCE5V24MoLvrBM-anlulgQ_UgzAWdPEFdf7GJfW64ItOp6L-k-n_W8uP9aUTRr8YbHcB0UynJIDCTJ0nBn0s9IvYLKVUAcsZHQSHdpeJWTcgvTUGgqfuTwCCnzrKXrMjyJTTKFoc5zA2pKHFsfKYEzpiEf_O1Qyajkz1m2Xy40jSwwaLJN_1FpszepGxQFDZH6UF8qfjaeE3sIPBJLh6-Z95j_8XaGRYZ36GbaUiP1azoqv9sxz_7BoH1qITCOD4ALuOY9D0TChrlKxRxXRSJ2xKEPwvyj5BYQqng0P1sEnD5jLwuf_rpzfkKwXjaHx3H0shVHWO8D84MyA-2ac5CXxvR7afspqXAAxOf3Zms12oCvt44KQGlLtFlElQcNlk6SMTWFEcyJ2TnVqjky_CZIUo1xIzRL4suuw9cLnW1uQiqhsN5Up-6bLSWtaJblhxKKXUQn-B1UObR4tCu97v7MTFkQvzNo-B6QFDjPECF_6x-0xOx8fjxkgIYG_BtyHI_G5aTh3w5rcS0EM.\n",
      "Fetching secret access_expiry from Azure Key Vault: 1751883912.\n",
      "Fetching value rest_url from Azure App Configuration: https://start.exactonline.nl/api.\n",
      "Fetching secret access_token from Azure Key Vault: stampNL001.gAAAAH_-ajFb2eC4P3FN0CQ4yyRN7BNbAVP52LV7l_t5AFXYHDLH8tsF2Xied_TvEMiJHEv4uF3lmNXoEdIIjyKX1srLiSjR8PIXrCka3EY32378T_fEU4mlECZfK5wcwlv3HX1qG5EhajPxEq5LSQg76lAki6lirj9O9dxqfHufZJ_iRAIAAIAAAAB54_N49DuIFqYi0nhJENo37syyBIHng9tbpwHXPSAKwulnj_7w1CgeRgtArxLIbWcc9gl9BKalThqEDEGQERsOQtk8s4WEusfg8MI2SpPCtK2Rrg3svoD9gW94b2KH__UaRZtQjLp7bbjRhpOWjVmWROd18bMLnXWJr4lxw6E-s0S4kvn4LQjeZX1CAt-ysxtz6G0vBJ-W0n96ml37iDlT8G8Xeq5skph3530nGIljlto5dBDvnCE5V24MoLvrBM-anlulgQ_UgzAWdPEFdf7GJfW64ItOp6L-k-n_W8uP9aUTRr8YbHcB0UynJIDCTJ0nBn0s9IvYLKVUAcsZHQSHdpeJWTcgvTUGgqfuTwCCnzrKXrMjyJTTKFoc5zA2pKHFsfKYEzpiEf_O1Qyajkz1m2Xy40jSwwaLJN_1FpszepGxQFDZH6UF8qfjaeE3sIPBJLh6-Z95j_8XaGRYZ36GbaUiP1azoqv9sxz_7BoH1qITCOD4ALuOY9D0TChrlKxRxXRSJ2xKEPwvyj5BYQqng0P1sEnD5jLwuf_rpzfkKwXjaHx3H0shVHWO8D84MyA-2ac5CXxvR7afspqXAAxOf3Zms12oCvt44KQGlLtFlElQcNlk6SMTWFEcyJ2TnVqjky_CZIUo1xIzRL4suuw9cLnW1uQiqhsN5Up-6bLSWtaJblhxKKXUQn-B1UObR4tCu97v7MTFkQvzNo-B6QFDjPECF_6x-0xOx8fjxkgIYG_BtyHI_G5aTh3w5rcS0EM.\n",
      "Fetching secret access_expiry from Azure Key Vault: 1751883912.\n",
      "Fetching value rest_url from Azure App Configuration: https://start.exactonline.nl/api.\n",
      "Fetching secret access_token from Azure Key Vault: stampNL001.gAAAAH_-ajFb2eC4P3FN0CQ4yyRN7BNbAVP52LV7l_t5AFXYHDLH8tsF2Xied_TvEMiJHEv4uF3lmNXoEdIIjyKX1srLiSjR8PIXrCka3EY32378T_fEU4mlECZfK5wcwlv3HX1qG5EhajPxEq5LSQg76lAki6lirj9O9dxqfHufZJ_iRAIAAIAAAAB54_N49DuIFqYi0nhJENo37syyBIHng9tbpwHXPSAKwulnj_7w1CgeRgtArxLIbWcc9gl9BKalThqEDEGQERsOQtk8s4WEusfg8MI2SpPCtK2Rrg3svoD9gW94b2KH__UaRZtQjLp7bbjRhpOWjVmWROd18bMLnXWJr4lxw6E-s0S4kvn4LQjeZX1CAt-ysxtz6G0vBJ-W0n96ml37iDlT8G8Xeq5skph3530nGIljlto5dBDvnCE5V24MoLvrBM-anlulgQ_UgzAWdPEFdf7GJfW64ItOp6L-k-n_W8uP9aUTRr8YbHcB0UynJIDCTJ0nBn0s9IvYLKVUAcsZHQSHdpeJWTcgvTUGgqfuTwCCnzrKXrMjyJTTKFoc5zA2pKHFsfKYEzpiEf_O1Qyajkz1m2Xy40jSwwaLJN_1FpszepGxQFDZH6UF8qfjaeE3sIPBJLh6-Z95j_8XaGRYZ36GbaUiP1azoqv9sxz_7BoH1qITCOD4ALuOY9D0TChrlKxRxXRSJ2xKEPwvyj5BYQqng0P1sEnD5jLwuf_rpzfkKwXjaHx3H0shVHWO8D84MyA-2ac5CXxvR7afspqXAAxOf3Zms12oCvt44KQGlLtFlElQcNlk6SMTWFEcyJ2TnVqjky_CZIUo1xIzRL4suuw9cLnW1uQiqhsN5Up-6bLSWtaJblhxKKXUQn-B1UObR4tCu97v7MTFkQvzNo-B6QFDjPECF_6x-0xOx8fjxkgIYG_BtyHI_G5aTh3w5rcS0EM.\n",
      "Fetching secret access_expiry from Azure Key Vault: 1751883912.\n",
      "Fetching value rest_url from Azure App Configuration: https://start.exactonline.nl/api.\n",
      "Fetching secret access_token from Azure Key Vault: stampNL001.gAAAAH_-ajFb2eC4P3FN0CQ4yyRN7BNbAVP52LV7l_t5AFXYHDLH8tsF2Xied_TvEMiJHEv4uF3lmNXoEdIIjyKX1srLiSjR8PIXrCka3EY32378T_fEU4mlECZfK5wcwlv3HX1qG5EhajPxEq5LSQg76lAki6lirj9O9dxqfHufZJ_iRAIAAIAAAAB54_N49DuIFqYi0nhJENo37syyBIHng9tbpwHXPSAKwulnj_7w1CgeRgtArxLIbWcc9gl9BKalThqEDEGQERsOQtk8s4WEusfg8MI2SpPCtK2Rrg3svoD9gW94b2KH__UaRZtQjLp7bbjRhpOWjVmWROd18bMLnXWJr4lxw6E-s0S4kvn4LQjeZX1CAt-ysxtz6G0vBJ-W0n96ml37iDlT8G8Xeq5skph3530nGIljlto5dBDvnCE5V24MoLvrBM-anlulgQ_UgzAWdPEFdf7GJfW64ItOp6L-k-n_W8uP9aUTRr8YbHcB0UynJIDCTJ0nBn0s9IvYLKVUAcsZHQSHdpeJWTcgvTUGgqfuTwCCnzrKXrMjyJTTKFoc5zA2pKHFsfKYEzpiEf_O1Qyajkz1m2Xy40jSwwaLJN_1FpszepGxQFDZH6UF8qfjaeE3sIPBJLh6-Z95j_8XaGRYZ36GbaUiP1azoqv9sxz_7BoH1qITCOD4ALuOY9D0TChrlKxRxXRSJ2xKEPwvyj5BYQqng0P1sEnD5jLwuf_rpzfkKwXjaHx3H0shVHWO8D84MyA-2ac5CXxvR7afspqXAAxOf3Zms12oCvt44KQGlLtFlElQcNlk6SMTWFEcyJ2TnVqjky_CZIUo1xIzRL4suuw9cLnW1uQiqhsN5Up-6bLSWtaJblhxKKXUQn-B1UObR4tCu97v7MTFkQvzNo-B6QFDjPECF_6x-0xOx8fjxkgIYG_BtyHI_G5aTh3w5rcS0EM.\n",
      "Fetching secret access_expiry from Azure Key Vault: 1751883912.\n",
      "Fetching value rest_url from Azure App Configuration: https://start.exactonline.nl/api.\n",
      "Fetching secret access_token from Azure Key Vault: stampNL001.gAAAAH_-ajFb2eC4P3FN0CQ4yyRN7BNbAVP52LV7l_t5AFXYHDLH8tsF2Xied_TvEMiJHEv4uF3lmNXoEdIIjyKX1srLiSjR8PIXrCka3EY32378T_fEU4mlECZfK5wcwlv3HX1qG5EhajPxEq5LSQg76lAki6lirj9O9dxqfHufZJ_iRAIAAIAAAAB54_N49DuIFqYi0nhJENo37syyBIHng9tbpwHXPSAKwulnj_7w1CgeRgtArxLIbWcc9gl9BKalThqEDEGQERsOQtk8s4WEusfg8MI2SpPCtK2Rrg3svoD9gW94b2KH__UaRZtQjLp7bbjRhpOWjVmWROd18bMLnXWJr4lxw6E-s0S4kvn4LQjeZX1CAt-ysxtz6G0vBJ-W0n96ml37iDlT8G8Xeq5skph3530nGIljlto5dBDvnCE5V24MoLvrBM-anlulgQ_UgzAWdPEFdf7GJfW64ItOp6L-k-n_W8uP9aUTRr8YbHcB0UynJIDCTJ0nBn0s9IvYLKVUAcsZHQSHdpeJWTcgvTUGgqfuTwCCnzrKXrMjyJTTKFoc5zA2pKHFsfKYEzpiEf_O1Qyajkz1m2Xy40jSwwaLJN_1FpszepGxQFDZH6UF8qfjaeE3sIPBJLh6-Z95j_8XaGRYZ36GbaUiP1azoqv9sxz_7BoH1qITCOD4ALuOY9D0TChrlKxRxXRSJ2xKEPwvyj5BYQqng0P1sEnD5jLwuf_rpzfkKwXjaHx3H0shVHWO8D84MyA-2ac5CXxvR7afspqXAAxOf3Zms12oCvt44KQGlLtFlElQcNlk6SMTWFEcyJ2TnVqjky_CZIUo1xIzRL4suuw9cLnW1uQiqhsN5Up-6bLSWtaJblhxKKXUQn-B1UObR4tCu97v7MTFkQvzNo-B6QFDjPECF_6x-0xOx8fjxkgIYG_BtyHI_G5aTh3w5rcS0EM.\n",
      "Fetching secret access_expiry from Azure Key Vault: 1751883912.\n",
      "Fetching value rest_url from Azure App Configuration: https://start.exactonline.nl/api.\n",
      "Fetching secret access_token from Azure Key Vault: stampNL001.gAAAAH_-ajFb2eC4P3FN0CQ4yyRN7BNbAVP52LV7l_t5AFXYHDLH8tsF2Xied_TvEMiJHEv4uF3lmNXoEdIIjyKX1srLiSjR8PIXrCka3EY32378T_fEU4mlECZfK5wcwlv3HX1qG5EhajPxEq5LSQg76lAki6lirj9O9dxqfHufZJ_iRAIAAIAAAAB54_N49DuIFqYi0nhJENo37syyBIHng9tbpwHXPSAKwulnj_7w1CgeRgtArxLIbWcc9gl9BKalThqEDEGQERsOQtk8s4WEusfg8MI2SpPCtK2Rrg3svoD9gW94b2KH__UaRZtQjLp7bbjRhpOWjVmWROd18bMLnXWJr4lxw6E-s0S4kvn4LQjeZX1CAt-ysxtz6G0vBJ-W0n96ml37iDlT8G8Xeq5skph3530nGIljlto5dBDvnCE5V24MoLvrBM-anlulgQ_UgzAWdPEFdf7GJfW64ItOp6L-k-n_W8uP9aUTRr8YbHcB0UynJIDCTJ0nBn0s9IvYLKVUAcsZHQSHdpeJWTcgvTUGgqfuTwCCnzrKXrMjyJTTKFoc5zA2pKHFsfKYEzpiEf_O1Qyajkz1m2Xy40jSwwaLJN_1FpszepGxQFDZH6UF8qfjaeE3sIPBJLh6-Z95j_8XaGRYZ36GbaUiP1azoqv9sxz_7BoH1qITCOD4ALuOY9D0TChrlKxRxXRSJ2xKEPwvyj5BYQqng0P1sEnD5jLwuf_rpzfkKwXjaHx3H0shVHWO8D84MyA-2ac5CXxvR7afspqXAAxOf3Zms12oCvt44KQGlLtFlElQcNlk6SMTWFEcyJ2TnVqjky_CZIUo1xIzRL4suuw9cLnW1uQiqhsN5Up-6bLSWtaJblhxKKXUQn-B1UObR4tCu97v7MTFkQvzNo-B6QFDjPECF_6x-0xOx8fjxkgIYG_BtyHI_G5aTh3w5rcS0EM.\n"
     ]
    }
   ],
   "source": [
    "transactions = api.restv1(GET(f'bulk/Financial/TransactionLines?$select=JournalCode,EntryNumber,FinancialPeriod,Date,Creator,LineNumber,GLAccountCode,DocumentNumber,Modified,Description,AmountDC,LineType,AccountCode,InvoiceNumber,CostCenter,CostUnit,ItemCode,ProjectCode,VATCode,VATPercentage,AmountVATBaseFC,Currency,FinancialYear'))\n",
    "transactions = pd.DataFrame.from_dict(transactions).rename(columns={\n",
    "                                                                    'JournalCode': 'DagboekNR',\n",
    "                                                                    'EntryNumber': 'TransNR',\n",
    "                                                                    'FinancialPeriod': 'Periode',\n",
    "                                                                    'Date': 'TransDT',\n",
    "                                                                    'Creator': 'UserID',\n",
    "                                                                    'LineNumber': 'LijnNR',\n",
    "                                                                    'GLAccountCode': 'GrootboekNR',\n",
    "                                                                    'DocumentNumber': 'BoekstNR',\n",
    "                                                                    'Modified': 'MutatieDT',\n",
    "                                                                    'Description': 'RegelOM',\n",
    "                                                                    'AmountDC': 'amnt',\n",
    "                                                                    'LineType': 'amntTp',\n",
    "                                                                    'AccountCode': 'RelatieNR',\n",
    "                                                                    'CostCenter': 'Kstplts',\n",
    "                                                                    'CostUnit': 'Kstdrgr',\n",
    "                                                                    'ItemCode': 'ProductCD',\n",
    "                                                                    'ProjectCode': 'ProjectCD',\n",
    "                                                                    'VATCode': 'btwCD',\n",
    "                                                                    'VATPercentage': 'btwPerc',\n",
    "                                                                    'AmountVATBaseFC': 'btwAmnt',\n",
    "                                                                    'Currency': 'Valuta'\n",
    "                                                                    })"
   ]
  },
  {
   "cell_type": "code",
   "execution_count": 17,
   "id": "b50ae98c",
   "metadata": {},
   "outputs": [
    {
     "data": {
      "text/plain": [
       "array([None, 'OUD_ALG', 'OUDDORD', 'PETJE2.0', 'G&I     ', 'OUDUTR',\n",
       "       'OUDAM', 'OUDBRED', 'OUDROTT', 'EGERIA'], dtype=object)"
      ]
     },
     "execution_count": 17,
     "metadata": {},
     "output_type": "execute_result"
    }
   ],
   "source": [
    "transactions['Kstplts'].unique()"
   ]
  },
  {
   "cell_type": "code",
   "execution_count": 20,
   "id": "a0ae2715",
   "metadata": {},
   "outputs": [
    {
     "name": "stdout",
     "output_type": "stream",
     "text": [
      "Fetching division from local INI file: 2304699 and az_resource=None\n",
      "Fetching division from local INI file: 2304699 and az_resource=None\n",
      "Fetching value iteration_limit from Azure App Configuration: 50.\n",
      "Fetching secret access_expiry from Azure Key Vault: 1751883912.\n",
      "Fetching secret client_id from Azure Key Vault: 949077fe-c895-416f-878a-273f3d0d420a.\n",
      "Fetching secret client_secret from Azure Key Vault: QC4cxQnS7nzO.\n",
      "Fetching secret refresh_token from Azure Key Vault: stampNL001.N4Y3!IAAAAAuWD4722rqN6qN9F6MgA756zA_FxeO_0ueUCXKefaMW4QEAAAHGMntrd3Li0Lkkh8qj4-O4prR0fC3IqiMaD9oyy3a50sHJuzfSh1MeSmzjRtxzD9yGZMqISlH5M_qSzM763ytdAgXMjPOtR3M89qmjcLQ2BMZh90Um77DIjZZ7qEdBOZV6tLZgj5sQIZLJnfm-lIrXswfdKpd_85JCmfBN9Q3ch892Cviz_5TJHpKqdaKMHLx6ZoZFpxk5vTXsm0zPmh0VTf08MYY6lsjF0MhsulCgb61Fw7hviOsJIEYCpeqnBNQaeP5CMzcs_y_Ar6ymtuMf0aP1yFJc1mHB80gOBQhp6ckFJN0xxkkVnUqYYjAxBmCVWCxn471585nmCZ46ytVVfaVi-H0WoOmcRlqTkavzOP-2c_izcxL-OuiPbpbg0TU1UU8z4Gu3_qFy3nF9vuvxLPSbzxcL2zcvuJIugZp3XOjsYalF7DaX87g0T9l_-jPnMxQY_OOsGSTOE1jAB8X_3aZG_c-KSiWRvK8taHAnowDTb4JszfsLRHvNp1yhVx0T1pY8CBzd4MR4ePfUxPQfxwbiGVhe7xnHzTA59KufNrjW4ffAVpTwi5JBo_Qdhi2vDwWBaKksFYYJhwCogi_zXxCyBnA3YNNcP44vm6C6YiehTtKXyCvTXUAahjHmv-M.\n",
      "Fetching value token_url from Azure App Configuration: https://start.exactonline.nl/api/oauth2/token.\n",
      "Adding secret access_expiry to Azure Key Vault: 1751885090.\n",
      "Adding secret access_token to Azure Key Vault: stampNL001.gAAAACM2Egq4ec4cL2TvBRhjXP2_pGuFh7-EFR11ysizupU2dNZXwYd8IlD7TBTQE_nsCgNZmxmg9uf28_cjBeVgyKcfIFvHo-jxp3IRckkNbqQ8MSPLJ_xgI5TbEGB63qcyx42CS_eJhHD-26lBTVsu4weQwo4IPIOhBt4PGcI1ES7jRAIAAIAAAABB1kgMYqkKtcAGg02gIWIlwbMb_it9GfWTNxp9afydBS6odnmY40B_C9M6eiCujDVsxid12odzcnS7430nBfO17zw5yNc3m933s8u-WzlIzW8mGzWRIz4bxm7iY7gqVcuiig-6U-uC0i2L0QGmPsaYcJOqzUdSZpIz-H6an2Ahaxwnkxo18Uj2TcJdJrZjJfHKlsVycRmW8fg_AIzljUg6rieovfJ1tS_4YGGYqbsmpYe09PJMP0_l8OTYRlsZceUuYyLaBriJY3to2W40EJ_bfL99dcjBc4X6kHMmlgAQWcNXOvGqPIG2VYhIdZ41FulaqDZRXSafsr2VsLB-5pPpkauRWDdkAnU_P0Lf6LsZF8iG4RnBCTix8AEdrrrsWVpwpGuMqKGm-2DJ8YlxqGQGN4-MRXQr9UawWm1Wvh5oCaV1bMjblYnJsYzQD7Ek9OMboRAfJqj647qhW6Fuq0lxQU45R8TWGkHnh8vjJvhZiJu5RizJuoHtjl8wnCSXTf4fOhK8Mb3kSgdyCobNDv1SQMlwq95ixvB92Qra0BLAkDqYVbnX4z95CE75-q4edxnZOLtay5v1lM9UQxrreGLG5anGrYZ8whxLjzWbEiMZks7PNtXzeeXhDlSfBBRCe3zBVn1fYqE80IU8EvmSlq7JEnMqDFCpac0PS69c687olKIxuw-Fv_rR1XGmBpL00xnZtInpdEv63JpBHvHnH8xzlzdl8Wx0XkOApgBqHIwLti8l33CgjOMHuuGLeTJKE-E.\n",
      "Adding secret refresh_token to Azure Key Vault: stampNL001.N4Y3!IAAAANfmLqp5l7ZIU0wxh2iCY_FXREIaevu2LwryG22Fq9Le4QEAAAFYBFU6aFJ9_T2GUWQm3ovJgx9zZqvk0M-9po8z5M0CceUS8N-QNMOkuKVRkfDTMQTK8y0ByunhsQz7kApC4lIKR6xzzFU_zIMGhwfVq5OSBqjjMceBC0ZnsW5jIBM5_4wz3UqhJdYxsesVuLscglxrZyrXvy6ykCHeLBQOJ6DT4rKcZihA-a3cnh-BbgeKMFbb7Y3S8cRqLALLS2acZh6pcP6J-TnXk2m0OGZP8gmMxebiWwOpqm1adU3kB8ioOCvCYhfSTGSr2FaSprUdWZxSBUUayAfzKjm-YEatEKUqGNUhxSYm2vCDF3KAfDpPJWkW22hrUFSpX6AUuceQ1FQhfWosNCnioDw1VGvTxGmdXnOop2wsEHbD3L6YZGblcUr7hgJnbGE4-msv7Csvj0FyFmDpYHDgNZ91uUb4IAR-DN7kwxUzxBbZXfWVNpeKwzzMxVkHVsi-eAoNbrKNWDLVKbqciMXYMiu0WnCJJaCjWvBAXBa3b4PbNRsBmMl1sCSMxUj6sDEW4kaKbsm0FQ-XBEvFTDQjzydt1Y64qnT5B4m9GMwhX-eUcY1p8p8MWaDI0TSfNqRs1M_nKaKXU9vqSSnXu0k8jjeBwOHdkye6SNq3V-TUBB_EL2wPmu6LClY.\n",
      "Fetching value rest_url from Azure App Configuration: https://start.exactonline.nl/api.\n",
      "Fetching secret access_token from Azure Key Vault: stampNL001.gAAAACM2Egq4ec4cL2TvBRhjXP2_pGuFh7-EFR11ysizupU2dNZXwYd8IlD7TBTQE_nsCgNZmxmg9uf28_cjBeVgyKcfIFvHo-jxp3IRckkNbqQ8MSPLJ_xgI5TbEGB63qcyx42CS_eJhHD-26lBTVsu4weQwo4IPIOhBt4PGcI1ES7jRAIAAIAAAABB1kgMYqkKtcAGg02gIWIlwbMb_it9GfWTNxp9afydBS6odnmY40B_C9M6eiCujDVsxid12odzcnS7430nBfO17zw5yNc3m933s8u-WzlIzW8mGzWRIz4bxm7iY7gqVcuiig-6U-uC0i2L0QGmPsaYcJOqzUdSZpIz-H6an2Ahaxwnkxo18Uj2TcJdJrZjJfHKlsVycRmW8fg_AIzljUg6rieovfJ1tS_4YGGYqbsmpYe09PJMP0_l8OTYRlsZceUuYyLaBriJY3to2W40EJ_bfL99dcjBc4X6kHMmlgAQWcNXOvGqPIG2VYhIdZ41FulaqDZRXSafsr2VsLB-5pPpkauRWDdkAnU_P0Lf6LsZF8iG4RnBCTix8AEdrrrsWVpwpGuMqKGm-2DJ8YlxqGQGN4-MRXQr9UawWm1Wvh5oCaV1bMjblYnJsYzQD7Ek9OMboRAfJqj647qhW6Fuq0lxQU45R8TWGkHnh8vjJvhZiJu5RizJuoHtjl8wnCSXTf4fOhK8Mb3kSgdyCobNDv1SQMlwq95ixvB92Qra0BLAkDqYVbnX4z95CE75-q4edxnZOLtay5v1lM9UQxrreGLG5anGrYZ8whxLjzWbEiMZks7PNtXzeeXhDlSfBBRCe3zBVn1fYqE80IU8EvmSlq7JEnMqDFCpac0PS69c687olKIxuw-Fv_rR1XGmBpL00xnZtInpdEv63JpBHvHnH8xzlzdl8Wx0XkOApgBqHIwLti8l33CgjOMHuuGLeTJKE-E.\n"
     ]
    },
    {
     "data": {
      "text/plain": [
       "[{'__metadata': {'uri': \"https://start.exactonline.nl/api/v1/2304699/hrm/Costunits(guid'8e4042c5-c195-4a25-9665-88d2352e9599')\",\n",
       "   'type': 'Exact.Web.Api.Models.Costunit'},\n",
       "  'Code': 'FINB&L  ',\n",
       "  'Created': '/Date(1749201958733)/',\n",
       "  'Creator': 'd2bb7220-2b09-4f82-ae67-fac0baa2b06b',\n",
       "  'CreatorFullName': 'Rowan Koch',\n",
       "  'Description': 'Financiële baten en lasten',\n",
       "  'Division': 2304699,\n",
       "  'EndDate': None,\n",
       "  'ID': '8e4042c5-c195-4a25-9665-88d2352e9599',\n",
       "  'Modified': '/Date(1749201958733)/',\n",
       "  'Modifier': 'd2bb7220-2b09-4f82-ae67-fac0baa2b06b',\n",
       "  'ModifierFullName': 'Rowan Koch',\n",
       "  'CustomField': None},\n",
       " {'__metadata': {'uri': \"https://start.exactonline.nl/api/v1/2304699/hrm/Costunits(guid'b72af6ff-0cd2-469e-933a-a406b3350edd')\",\n",
       "   'type': 'Exact.Web.Api.Models.Costunit'},\n",
       "  'Code': 'WERV    ',\n",
       "  'Created': '/Date(1749201840903)/',\n",
       "  'Creator': 'd2bb7220-2b09-4f82-ae67-fac0baa2b06b',\n",
       "  'CreatorFullName': 'Rowan Koch',\n",
       "  'Description': 'Wervingskosten',\n",
       "  'Division': 2304699,\n",
       "  'EndDate': None,\n",
       "  'ID': 'b72af6ff-0cd2-469e-933a-a406b3350edd',\n",
       "  'Modified': '/Date(1749201840903)/',\n",
       "  'Modifier': 'd2bb7220-2b09-4f82-ae67-fac0baa2b06b',\n",
       "  'ModifierFullName': 'Rowan Koch',\n",
       "  'CustomField': None},\n",
       " {'__metadata': {'uri': \"https://start.exactonline.nl/api/v1/2304699/hrm/Costunits(guid'c88fd828-146a-4a34-bff8-d9f801a1f154')\",\n",
       "   'type': 'Exact.Web.Api.Models.Costunit'},\n",
       "  'Code': 'BEHEER  ',\n",
       "  'Created': '/Date(1749201899637)/',\n",
       "  'Creator': 'd2bb7220-2b09-4f82-ae67-fac0baa2b06b',\n",
       "  'CreatorFullName': 'Rowan Koch',\n",
       "  'Description': 'Kosten Beheer en administratie',\n",
       "  'Division': 2304699,\n",
       "  'EndDate': None,\n",
       "  'ID': 'c88fd828-146a-4a34-bff8-d9f801a1f154',\n",
       "  'Modified': '/Date(1749201899637)/',\n",
       "  'Modifier': 'd2bb7220-2b09-4f82-ae67-fac0baa2b06b',\n",
       "  'ModifierFullName': 'Rowan Koch',\n",
       "  'CustomField': None},\n",
       " {'__metadata': {'uri': \"https://start.exactonline.nl/api/v1/2304699/hrm/Costunits(guid'7ddbc389-dbe3-4a1e-8f75-f37897d59e5c')\",\n",
       "   'type': 'Exact.Web.Api.Models.Costunit'},\n",
       "  'Code': 'DOEL    ',\n",
       "  'Created': '/Date(1749201814383)/',\n",
       "  'Creator': 'd2bb7220-2b09-4f82-ae67-fac0baa2b06b',\n",
       "  'CreatorFullName': 'Rowan Koch',\n",
       "  'Description': 'Besteed aan doelstellingen',\n",
       "  'Division': 2304699,\n",
       "  'EndDate': None,\n",
       "  'ID': '7ddbc389-dbe3-4a1e-8f75-f37897d59e5c',\n",
       "  'Modified': '/Date(1749201814383)/',\n",
       "  'Modifier': 'd2bb7220-2b09-4f82-ae67-fac0baa2b06b',\n",
       "  'ModifierFullName': 'Rowan Koch',\n",
       "  'CustomField': None}]"
      ]
     },
     "execution_count": 20,
     "metadata": {},
     "output_type": "execute_result"
    }
   ],
   "source": [
    "costcenters = api.restv1(GET(f'hrm/Costunits'))\n",
    "costcenters\n"
   ]
  }
 ],
 "metadata": {
  "kernelspec": {
   "display_name": ".env",
   "language": "python",
   "name": "python3"
  },
  "language_info": {
   "codemirror_mode": {
    "name": "ipython",
    "version": 3
   },
   "file_extension": ".py",
   "mimetype": "text/x-python",
   "name": "python",
   "nbconvert_exporter": "python",
   "pygments_lexer": "ipython3",
   "version": "3.12.9"
  }
 },
 "nbformat": 4,
 "nbformat_minor": 5
}
